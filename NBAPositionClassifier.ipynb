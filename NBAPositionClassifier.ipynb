{
 "cells": [
  {
   "cell_type": "markdown",
   "id": "7348dd9b",
   "metadata": {},
   "source": [
    "## Task1: Developing a Machine Learning Model"
   ]
  },
  {
   "cell_type": "markdown",
   "id": "9aa2544f",
   "metadata": {},
   "source": [
    "### Importing Dataset"
   ]
  },
  {
   "cell_type": "code",
   "execution_count": 151,
   "id": "85531dba",
   "metadata": {},
   "outputs": [],
   "source": [
    "import numpy as np\n",
    "import pandas as pd\n",
    "from pandas import Series, DataFrame\n",
    "\n",
    "ball_stats = pd.read_excel(r'/Users/liammah/Desktop/ENDG_deliverable_3_NBA.xlsx')\n",
    "ball_statsX = ball_stats.drop(columns = ['POS','PLAYER','TEAM','Unnamed: 0'])\n",
    "ball_statsY = ball_stats.POS"
   ]
  },
  {
   "cell_type": "markdown",
   "id": "95e6d8ef",
   "metadata": {},
   "source": [
    "#### Note: You must first change the excel  (.xlsx) data to the correct directory before running."
   ]
  },
  {
   "cell_type": "markdown",
   "id": "2bf871b7",
   "metadata": {},
   "source": [
    "### Divide Data into Training and Test Set"
   ]
  },
  {
   "cell_type": "code",
   "execution_count": 152,
   "id": "e5d7c619",
   "metadata": {},
   "outputs": [],
   "source": [
    "from sklearn.model_selection import train_test_split\n",
    "ball_statsX_train, ball_statsX_test, ball_statsY_train, ball_statsY_test = train_test_split(ball_statsX, ball_statsY)"
   ]
  },
  {
   "cell_type": "markdown",
   "id": "8f475e8b",
   "metadata": {},
   "source": [
    "### Data Processing"
   ]
  },
  {
   "cell_type": "code",
   "execution_count": 153,
   "id": "b97a687e",
   "metadata": {},
   "outputs": [],
   "source": [
    "from sklearn import preprocessing\n",
    "le = preprocessing.LabelEncoder()"
   ]
  },
  {
   "cell_type": "code",
   "execution_count": 156,
   "id": "5cdfff1f",
   "metadata": {},
   "outputs": [],
   "source": [
    "le = le.fit(ball_statsY_train)\n",
    "y_train = le.transform(ball_statsY_train)"
   ]
  },
  {
   "cell_type": "code",
   "execution_count": 157,
   "id": "03e6c1ce",
   "metadata": {},
   "outputs": [],
   "source": [
    "nl = preprocessing.MinMaxScaler()\n",
    "nl = nl.fit(ball_statsX_train.to_numpy())\n",
    "x_train = nl.transform(ball_statsX_train.to_numpy())"
   ]
  },
  {
   "cell_type": "markdown",
   "id": "fe1d8ae1",
   "metadata": {},
   "source": [
    "### Build Machine Learning Model"
   ]
  },
  {
   "cell_type": "code",
   "execution_count": 158,
   "id": "065b64d3",
   "metadata": {},
   "outputs": [],
   "source": [
    "from sklearn.neighbors import KNeighborsClassifier\n",
    "\n",
    "y_test = le.transform(ball_statsY_test.to_numpy())\n",
    "x_test = nl.transform(ball_statsX_test.to_numpy())"
   ]
  },
  {
   "cell_type": "markdown",
   "id": "6aa114e2",
   "metadata": {},
   "source": [
    "## Task 2: Analysis Work for k"
   ]
  },
  {
   "cell_type": "markdown",
   "id": "cae0d112",
   "metadata": {},
   "source": [
    "### Task 2(a): Model Accuracy"
   ]
  },
  {
   "cell_type": "code",
   "execution_count": 175,
   "id": "77d16d12",
   "metadata": {},
   "outputs": [],
   "source": [
    "data_knn = DataFrame()\n",
    "data_knn['test_scores'] = []\n",
    "data_knn['train_scores'] = []\n",
    "data_knn['knn_values'] = []"
   ]
  },
  {
   "cell_type": "code",
   "execution_count": 160,
   "id": "41cb3f47",
   "metadata": {},
   "outputs": [],
   "source": [
    "counter = 1\n",
    "counter_2 = 0\n",
    "while counter < 10:\n",
    "    knn = KNeighborsClassifier(n_neighbors = counter)\n",
    "    knn = knn.fit(x_train,y_train)\n",
    "    data_knn.loc[counter_2, 'test_scores'] = knn.score(x_test, y_test)\n",
    "    data_knn.loc[counter_2, 'train_scores'] = knn.score(x_train, y_train)\n",
    "    data_knn.loc[counter_2, 'knn_values'] = counter\n",
    "\n",
    "    counter = counter + 1\n",
    "    counter_2 = counter_2 + 1"
   ]
  },
  {
   "cell_type": "code",
   "execution_count": 161,
   "id": "cf9989a5",
   "metadata": {},
   "outputs": [
    {
     "data": {
      "text/html": [
       "<div>\n",
       "<style scoped>\n",
       "    .dataframe tbody tr th:only-of-type {\n",
       "        vertical-align: middle;\n",
       "    }\n",
       "\n",
       "    .dataframe tbody tr th {\n",
       "        vertical-align: top;\n",
       "    }\n",
       "\n",
       "    .dataframe thead th {\n",
       "        text-align: right;\n",
       "    }\n",
       "</style>\n",
       "<table border=\"1\" class=\"dataframe\">\n",
       "  <thead>\n",
       "    <tr style=\"text-align: right;\">\n",
       "      <th></th>\n",
       "      <th>test_scores</th>\n",
       "      <th>train_scores</th>\n",
       "      <th>knn_values</th>\n",
       "    </tr>\n",
       "  </thead>\n",
       "  <tbody>\n",
       "    <tr>\n",
       "      <th>0</th>\n",
       "      <td>0.538462</td>\n",
       "      <td>0.868421</td>\n",
       "      <td>1.0</td>\n",
       "    </tr>\n",
       "    <tr>\n",
       "      <th>1</th>\n",
       "      <td>0.615385</td>\n",
       "      <td>0.763158</td>\n",
       "      <td>2.0</td>\n",
       "    </tr>\n",
       "    <tr>\n",
       "      <th>2</th>\n",
       "      <td>0.730769</td>\n",
       "      <td>0.736842</td>\n",
       "      <td>3.0</td>\n",
       "    </tr>\n",
       "    <tr>\n",
       "      <th>3</th>\n",
       "      <td>0.653846</td>\n",
       "      <td>0.736842</td>\n",
       "      <td>4.0</td>\n",
       "    </tr>\n",
       "    <tr>\n",
       "      <th>4</th>\n",
       "      <td>0.769231</td>\n",
       "      <td>0.736842</td>\n",
       "      <td>5.0</td>\n",
       "    </tr>\n",
       "    <tr>\n",
       "      <th>5</th>\n",
       "      <td>0.730769</td>\n",
       "      <td>0.776316</td>\n",
       "      <td>6.0</td>\n",
       "    </tr>\n",
       "    <tr>\n",
       "      <th>6</th>\n",
       "      <td>0.730769</td>\n",
       "      <td>0.750000</td>\n",
       "      <td>7.0</td>\n",
       "    </tr>\n",
       "    <tr>\n",
       "      <th>7</th>\n",
       "      <td>0.692308</td>\n",
       "      <td>0.750000</td>\n",
       "      <td>8.0</td>\n",
       "    </tr>\n",
       "    <tr>\n",
       "      <th>8</th>\n",
       "      <td>0.730769</td>\n",
       "      <td>0.736842</td>\n",
       "      <td>9.0</td>\n",
       "    </tr>\n",
       "  </tbody>\n",
       "</table>\n",
       "</div>"
      ],
      "text/plain": [
       "   test_scores  train_scores  knn_values\n",
       "0     0.538462      0.868421         1.0\n",
       "1     0.615385      0.763158         2.0\n",
       "2     0.730769      0.736842         3.0\n",
       "3     0.653846      0.736842         4.0\n",
       "4     0.769231      0.736842         5.0\n",
       "5     0.730769      0.776316         6.0\n",
       "6     0.730769      0.750000         7.0\n",
       "7     0.692308      0.750000         8.0\n",
       "8     0.730769      0.736842         9.0"
      ]
     },
     "execution_count": 161,
     "metadata": {},
     "output_type": "execute_result"
    }
   ],
   "source": [
    "data_knn"
   ]
  },
  {
   "cell_type": "code",
   "execution_count": 162,
   "id": "b05bcbda",
   "metadata": {},
   "outputs": [
    {
     "data": {
      "image/png": "[encoded data removed]",
      "text/plain": [
       "<Figure size 288x288 with 1 Axes>"
      ]
     },
     "metadata": {
      "needs_background": "light"
     },
     "output_type": "display_data"
    }
   ],
   "source": [
    "import matplotlib.pyplot as plt\n",
    "fig, axs = plt.subplots(figsize = (4, 4))\n",
    "plt.tight_layout()\n",
    "\n",
    "axs.scatter(data_knn.iloc[:,2],data_knn.iloc[:,0], label='test scores')\n",
    "axs.scatter(data_knn.iloc[:,2],data_knn.iloc[:,1], label='training scores')\n",
    "axs.legend()\n",
    "\n",
    "plt.title('Model Accuracy using MinMaxScaler')\n",
    "plt.ylabel('Accuracy')\n",
    "plt.xlabel('K-values')\n",
    "plt.show()"
   ]
  },
  {
   "cell_type": "markdown",
   "id": "1a773f9c",
   "metadata": {},
   "source": [
    "### Task 2(b): StandardScaler() Accuracy"
   ]
  },
  {
   "cell_type": "code",
   "execution_count": 166,
   "id": "cd705f1f",
   "metadata": {},
   "outputs": [],
   "source": [
    "stand = preprocessing.StandardScaler()\n",
    "stand = stand.fit(ball_statsX_train.to_numpy())\n",
    "x_train_2 = stand.transform(ball_statsX_train.to_numpy())"
   ]
  },
  {
   "cell_type": "code",
   "execution_count": 167,
   "id": "7057027f",
   "metadata": {},
   "outputs": [],
   "source": [
    "y_test = le.transform(ball_statsY_test.to_numpy())\n",
    "x_test_2 = stand.transform(ball_statsX_test.to_numpy())"
   ]
  },
  {
   "cell_type": "code",
   "execution_count": 168,
   "id": "6f94a083",
   "metadata": {},
   "outputs": [],
   "source": [
    "data_knn2 = DataFrame()\n",
    "data_knn2['test_scores'] = []\n",
    "data_knn2['train_scores'] = []\n",
    "data_knn2['knn_values'] = []"
   ]
  },
  {
   "cell_type": "code",
   "execution_count": 169,
   "id": "50ec3130",
   "metadata": {},
   "outputs": [],
   "source": [
    "counter = 1\n",
    "counter_2 = 0\n",
    "while counter < 10:\n",
    "    knn2 = KNeighborsClassifier(n_neighbors = counter)\n",
    "    knn2 = knn2.fit(x_train_2,y_train)\n",
    "\n",
    "    data_knn2.loc[counter_2, 'test_scores'] = knn2.score(x_test_2, y_test)\n",
    "    data_knn2.loc[counter_2, 'train_scores'] = knn2.score(x_train_2, y_train)\n",
    "    data_knn2.loc[counter_2, 'knn_values'] = counter\n",
    "\n",
    "    counter = counter + 1\n",
    "    counter_2 = counter_2 + 1"
   ]
  },
  {
   "cell_type": "code",
   "execution_count": 170,
   "id": "fcfe7d18",
   "metadata": {},
   "outputs": [
    {
     "data": {
      "text/html": [
       "<div>\n",
       "<style scoped>\n",
       "    .dataframe tbody tr th:only-of-type {\n",
       "        vertical-align: middle;\n",
       "    }\n",
       "\n",
       "    .dataframe tbody tr th {\n",
       "        vertical-align: top;\n",
       "    }\n",
       "\n",
       "    .dataframe thead th {\n",
       "        text-align: right;\n",
       "    }\n",
       "</style>\n",
       "<table border=\"1\" class=\"dataframe\">\n",
       "  <thead>\n",
       "    <tr style=\"text-align: right;\">\n",
       "      <th></th>\n",
       "      <th>test_scores</th>\n",
       "      <th>train_scores</th>\n",
       "      <th>knn_values</th>\n",
       "    </tr>\n",
       "  </thead>\n",
       "  <tbody>\n",
       "    <tr>\n",
       "      <th>0</th>\n",
       "      <td>0.538462</td>\n",
       "      <td>0.868421</td>\n",
       "      <td>1.0</td>\n",
       "    </tr>\n",
       "    <tr>\n",
       "      <th>1</th>\n",
       "      <td>0.615385</td>\n",
       "      <td>0.750000</td>\n",
       "      <td>2.0</td>\n",
       "    </tr>\n",
       "    <tr>\n",
       "      <th>2</th>\n",
       "      <td>0.730769</td>\n",
       "      <td>0.736842</td>\n",
       "      <td>3.0</td>\n",
       "    </tr>\n",
       "    <tr>\n",
       "      <th>3</th>\n",
       "      <td>0.653846</td>\n",
       "      <td>0.736842</td>\n",
       "      <td>4.0</td>\n",
       "    </tr>\n",
       "    <tr>\n",
       "      <th>4</th>\n",
       "      <td>0.769231</td>\n",
       "      <td>0.736842</td>\n",
       "      <td>5.0</td>\n",
       "    </tr>\n",
       "    <tr>\n",
       "      <th>5</th>\n",
       "      <td>0.730769</td>\n",
       "      <td>0.763158</td>\n",
       "      <td>6.0</td>\n",
       "    </tr>\n",
       "    <tr>\n",
       "      <th>6</th>\n",
       "      <td>0.769231</td>\n",
       "      <td>0.736842</td>\n",
       "      <td>7.0</td>\n",
       "    </tr>\n",
       "    <tr>\n",
       "      <th>7</th>\n",
       "      <td>0.730769</td>\n",
       "      <td>0.750000</td>\n",
       "      <td>8.0</td>\n",
       "    </tr>\n",
       "    <tr>\n",
       "      <th>8</th>\n",
       "      <td>0.730769</td>\n",
       "      <td>0.736842</td>\n",
       "      <td>9.0</td>\n",
       "    </tr>\n",
       "  </tbody>\n",
       "</table>\n",
       "</div>"
      ],
      "text/plain": [
       "   test_scores  train_scores  knn_values\n",
       "0     0.538462      0.868421         1.0\n",
       "1     0.615385      0.750000         2.0\n",
       "2     0.730769      0.736842         3.0\n",
       "3     0.653846      0.736842         4.0\n",
       "4     0.769231      0.736842         5.0\n",
       "5     0.730769      0.763158         6.0\n",
       "6     0.769231      0.736842         7.0\n",
       "7     0.730769      0.750000         8.0\n",
       "8     0.730769      0.736842         9.0"
      ]
     },
     "execution_count": 170,
     "metadata": {},
     "output_type": "execute_result"
    }
   ],
   "source": [
    "data_knn2"
   ]
  },
  {
   "cell_type": "code",
   "execution_count": 171,
   "id": "3e4b4823",
   "metadata": {},
   "outputs": [
    {
     "data": {
      "image/png": "[encoded data removed]",
      "text/plain": [
       "<Figure size 288x288 with 1 Axes>"
      ]
     },
     "metadata": {
      "needs_background": "light"
     },
     "output_type": "display_data"
    }
   ],
   "source": [
    "import matplotlib.pyplot as plt\n",
    "fig, axs = plt.subplots(figsize = (4, 4))\n",
    "plt.tight_layout()\n",
    "\n",
    "axs.scatter(data_knn2.iloc[:,2],data_knn2.iloc[:,0], label='test scores')\n",
    "axs.scatter(data_knn2.iloc[:,2],data_knn2.iloc[:,1], label='training scores')\n",
    "axs.legend()\n",
    "\n",
    "plt.title('Model Accuracy using StandardScaler')\n",
    "plt.ylabel('Accuracy')\n",
    "plt.xlabel('K-values')\n",
    "plt.show()"
   ]
  },
  {
   "cell_type": "markdown",
   "id": "066d342d",
   "metadata": {},
   "source": [
    "## Task #3 \n"
   ]
  },
  {
   "cell_type": "markdown",
   "id": "bb18e29c",
   "metadata": {},
   "source": [
    "### Task 3(a): Finding the Best Scaler and Value for k"
   ]
  },
  {
   "cell_type": "markdown",
   "id": "1f3a9699",
   "metadata": {},
   "source": [
    "The K value was selected to be 2, this was because it had the highest sum of accurately predicted instances between the training set and test set for both scalers. Both the StandardScaler and MinMaxScaler performed similarly as their accuracy when predicting the class of the test set and training set were extremely close or equal for all values of kneighbours. For the value k = 2 in particular, the MinMaxScaler and StandardScaler provided the exact same results. Ultimately, the MinMaxScaler was chosen arbitrarily. "
   ]
  },
  {
   "cell_type": "code",
   "execution_count": 143,
   "id": "1c21baf4",
   "metadata": {},
   "outputs": [
    {
     "name": "stdout",
     "output_type": "stream",
     "text": [
      "[1 0 1 0 1 1 0 0 1 1 1 0 1 2 1 1 0 1 0 2 2 1 0 1 0 0]\n",
      "[1 1 0 1 0 0 0 0 1 1 2 0 1 2 2 1 0 1 0 1 2 2 0 2 1 1]\n"
     ]
    }
   ],
   "source": [
    "    knn3 = KNeighborsClassifier(n_neighbors = 2)\n",
    "    knn3 = knn3.fit(x_train_2,y_train)\n",
    "    print(knn3.predict(x_test_2))\n",
    "    print(y_test)"
   ]
  },
  {
   "cell_type": "markdown",
   "id": "565eb214",
   "metadata": {},
   "source": [
    "### Task 3(b): Confusion Matrix"
   ]
  },
  {
   "cell_type": "code",
   "execution_count": 144,
   "id": "84202783",
   "metadata": {},
   "outputs": [],
   "source": [
    " from sklearn.metrics import confusion_matrix"
   ]
  },
  {
   "cell_type": "code",
   "execution_count": 150,
   "id": "61faceb8",
   "metadata": {},
   "outputs": [
    {
     "data": {
      "text/plain": [
       "array([[6, 3, 0],\n",
       "       [4, 6, 1],\n",
       "       [0, 4, 2]])"
      ]
     },
     "execution_count": 150,
     "metadata": {},
     "output_type": "execute_result"
    }
   ],
   "source": [
    "confusion_matrix(y_test, knn3.predict(x_test_2))"
   ]
  },
  {
   "cell_type": "markdown",
   "id": "5dfd071a",
   "metadata": {},
   "source": [
    "The confusion matrix is a matrix that calculates the number of true negatives, false negatives, true positives, and false negatives. For the matrix C, the value Cij represents the number of instances that are in group i and are predicted in group j. For example the number of true positives in group 0 would be the value C00, in this case it is 9. Ideally, we want the most number of occurrences in cells where i = j. This indicates that the trained model was correct in the classification process. Note that the final row shows that our model is inaccurate when detecting the third class (6 wrong instances, 2 right instances)."
   ]
  },
  {
   "cell_type": "markdown",
   "id": "1baf91c7",
   "metadata": {},
   "source": [
    "### Task 4: Applying the Model"
   ]
  },
  {
   "cell_type": "code",
   "execution_count": 174,
   "id": "fdd65068",
   "metadata": {},
   "outputs": [
    {
     "data": {
      "text/plain": [
       "array([1])"
      ]
     },
     "execution_count": 174,
     "metadata": {},
     "output_type": "execute_result"
    }
   ],
   "source": [
    "new_player = np.array([[19.0, 54.2, 6.3, 7.3, 1.1, 0.9]])\n",
    "X_new = nl.transform(new_player)\n",
    "knn.predict(X_new)"
   ]
  },
  {
   "cell_type": "markdown",
   "id": "e6bbe0de",
   "metadata": {},
   "source": [
    "#### Note that by using the MinMaxScaler (as chosen in task 3A), the machine learning model was able to correctly classify the new instance with '1' (Michael Porter Jr. as a forward)."
   ]
  }
 ],
 "metadata": {
  "kernelspec": {
   "display_name": "Python 3 (ipykernel)",
   "language": "python",
   "name": "python3"
  },
  "language_info": {
   "codemirror_mode": {
    "name": "ipython",
    "version": 3
   },
   "file_extension": ".py",
   "mimetype": "text/x-python",
   "name": "python",
   "nbconvert_exporter": "python",
   "pygments_lexer": "ipython3",
   "version": "3.9.12"
  }
 },
 "nbformat": 4,
 "nbformat_minor": 5
}
